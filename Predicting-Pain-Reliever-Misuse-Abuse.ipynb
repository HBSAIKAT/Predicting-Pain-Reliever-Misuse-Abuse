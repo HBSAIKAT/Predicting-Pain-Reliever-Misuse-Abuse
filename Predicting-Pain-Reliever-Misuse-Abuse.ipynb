{
 "cells": [
  {
   "cell_type": "code",
   "execution_count": 2,
   "id": "fcd48319-dd4a-4ae2-82e1-2d2ab0deacd9",
   "metadata": {},
   "outputs": [],
   "source": [
    "import pandas as pd"
   ]
  },
  {
   "cell_type": "code",
   "execution_count": 3,
   "id": "6383b8e1-b7af-4923-9207-a8f1b9044932",
   "metadata": {},
   "outputs": [],
   "source": [
    "data = pd.read_csv(\"datafile/prlmis-data-full.csv\")"
   ]
  },
  {
   "cell_type": "code",
   "execution_count": 4,
   "id": "3879b0f8-4cf1-40dd-9d98-f715980b83ae",
   "metadata": {},
   "outputs": [
    {
     "name": "stdout",
     "output_type": "stream",
     "text": [
      "   YEAR  AGECAT  SEX  MARRIED  EDUCAT  EMPLOY18  CTYMETRO  HEALTH  MENTHLTH  \\\n",
      "0    15       3    1        0       2         2         0       3         4   \n",
      "1    15       3    0        0       3         1         0       6         7   \n",
      "2    15       2    0        0       3         0         0       4         2   \n",
      "3    15       1    0        0       1         0         0       5         0   \n",
      "4    15       5    0        0       3         0         0       5         2   \n",
      "5    15       3    0        0       2         2         0       5         3   \n",
      "6    15       3    0        0       2         0         0       1         0   \n",
      "7    15       3    0        0       5         0         0       3         0   \n",
      "8    15       3    1        0       4         0         0       6         6   \n",
      "9    15       2    0        0       4         1         0       5        10   \n",
      "\n",
      "   PRLMISEVR  ...  PRLANY  HEROINEVR  HEROINUSE  TRQLZRS  SEDATVS  COCAINE  \\\n",
      "0          1  ...      10          1          5        5        0        5   \n",
      "1          1  ...      10          1          5        5        0        4   \n",
      "2          1  ...       9          1          5        5        0        4   \n",
      "3          1  ...       9          1          5        5        0        3   \n",
      "4          1  ...       9          1          5        5        3        2   \n",
      "5          1  ...       8          1          5        5        0        2   \n",
      "6          1  ...       8          1          5        4        0        5   \n",
      "7          1  ...       8          1          5        0        0        3   \n",
      "8          1  ...       8          1          5        3        0        5   \n",
      "9          1  ...       8          1          5        5        0        4   \n",
      "\n",
      "   AMPHETMN  HALUCNG  TRTMENT  MHTRTMT  \n",
      "0         2        2        6        0  \n",
      "1         3        5        5        0  \n",
      "2         2        3        7        2  \n",
      "3         2        2        0        0  \n",
      "4         2        2        7        0  \n",
      "5         2        4        0        0  \n",
      "6         4        3        0        0  \n",
      "7         1        0        0        0  \n",
      "8         2        2        8        0  \n",
      "9         3        5        6        0  \n",
      "\n",
      "[10 rows x 21 columns]\n"
     ]
    }
   ],
   "source": [
    "print(data.head(10))"
   ]
  },
  {
   "cell_type": "code",
   "execution_count": 5,
   "id": "962106f4-a725-4562-86ab-0dffddeb03be",
   "metadata": {},
   "outputs": [
    {
     "name": "stdout",
     "output_type": "stream",
     "text": [
      "        YEAR  AGECAT  SEX  MARRIED  EDUCAT  EMPLOY18  CTYMETRO  HEALTH  \\\n",
      "170312    17       1    1        0       1         0         2       0   \n",
      "170313    17       1    1        0       1         0         1       0   \n",
      "170314    17       1    1        0       1         0         3       0   \n",
      "170315    17       1    0        0       1         0         3       0   \n",
      "170316    17       2    1        1       3         0         2       0   \n",
      "\n",
      "        MENTHLTH  PRLMISEVR  ...  PRLANY  HEROINEVR  HEROINUSE  TRQLZRS  \\\n",
      "170312         0          0  ...       0          0          0        0   \n",
      "170313         0          0  ...       0          0          0        0   \n",
      "170314         0          0  ...       0          0          0        0   \n",
      "170315         0          0  ...       0          0          0        0   \n",
      "170316         0          0  ...       0          0          0        0   \n",
      "\n",
      "        SEDATVS  COCAINE  AMPHETMN  HALUCNG  TRTMENT  MHTRTMT  \n",
      "170312        0        0         0        0        0        0  \n",
      "170313        0        0         0        0        0        0  \n",
      "170314        0        0         0        0        0        0  \n",
      "170315        0        0         0        0        0        0  \n",
      "170316        0        0         0        0        0        0  \n",
      "\n",
      "[5 rows x 21 columns]\n"
     ]
    }
   ],
   "source": [
    "print(data.tail())"
   ]
  },
  {
   "cell_type": "code",
   "execution_count": 6,
   "id": "5a50922a-5b0d-4978-a7da-4d237eed8aad",
   "metadata": {},
   "outputs": [
    {
     "name": "stdout",
     "output_type": "stream",
     "text": [
      "<class 'pandas.core.frame.DataFrame'>\n",
      "RangeIndex: 170317 entries, 0 to 170316\n",
      "Data columns (total 21 columns):\n",
      " #   Column     Non-Null Count   Dtype\n",
      "---  ------     --------------   -----\n",
      " 0   YEAR       170317 non-null  int64\n",
      " 1   AGECAT     170317 non-null  int64\n",
      " 2   SEX        170317 non-null  int64\n",
      " 3   MARRIED    170317 non-null  int64\n",
      " 4   EDUCAT     170317 non-null  int64\n",
      " 5   EMPLOY18   170317 non-null  int64\n",
      " 6   CTYMETRO   170317 non-null  int64\n",
      " 7   HEALTH     170317 non-null  int64\n",
      " 8   MENTHLTH   170317 non-null  int64\n",
      " 9   PRLMISEVR  170317 non-null  int64\n",
      " 10  PRLMISAB   170317 non-null  int64\n",
      " 11  PRLANY     170317 non-null  int64\n",
      " 12  HEROINEVR  170317 non-null  int64\n",
      " 13  HEROINUSE  170317 non-null  int64\n",
      " 14  TRQLZRS    170317 non-null  int64\n",
      " 15  SEDATVS    170317 non-null  int64\n",
      " 16  COCAINE    170317 non-null  int64\n",
      " 17  AMPHETMN   170317 non-null  int64\n",
      " 18  HALUCNG    170317 non-null  int64\n",
      " 19  TRTMENT    170317 non-null  int64\n",
      " 20  MHTRTMT    170317 non-null  int64\n",
      "dtypes: int64(21)\n",
      "memory usage: 27.3 MB\n",
      "None\n"
     ]
    }
   ],
   "source": [
    "print(data.info())"
   ]
  },
  {
   "cell_type": "code",
   "execution_count": 7,
   "id": "21573ebd-a5ec-4a25-816a-5c3ed13f0b25",
   "metadata": {},
   "outputs": [
    {
     "name": "stdout",
     "output_type": "stream",
     "text": [
      "                YEAR         AGECAT            SEX        MARRIED  \\\n",
      "count  170317.000000  170317.000000  170317.000000  170317.000000   \n",
      "mean       15.994892       2.772078       0.524927       1.286448   \n",
      "std         0.816042       1.409875       0.499380       1.517425   \n",
      "min        15.000000       1.000000       0.000000       0.000000   \n",
      "25%        15.000000       2.000000       0.000000       0.000000   \n",
      "50%        16.000000       3.000000       1.000000       1.000000   \n",
      "75%        17.000000       4.000000       1.000000       2.000000   \n",
      "max        17.000000       5.000000       1.000000       4.000000   \n",
      "\n",
      "              EDUCAT       EMPLOY18       CTYMETRO         HEALTH  \\\n",
      "count  170317.000000  170317.000000  170317.000000  170317.000000   \n",
      "mean        3.063623       0.901419       1.493726       2.330020   \n",
      "std         1.457736       0.933172       1.231702       1.054522   \n",
      "min         1.000000       0.000000       0.000000       0.000000   \n",
      "25%         2.000000       0.000000       0.000000       2.000000   \n",
      "50%         3.000000       1.000000       2.000000       2.000000   \n",
      "75%         4.000000       2.000000       3.000000       3.000000   \n",
      "max         5.000000       2.000000       3.000000       7.000000   \n",
      "\n",
      "            MENTHLTH      PRLMISEVR  ...         PRLANY      HEROINEVR  \\\n",
      "count  170317.000000  170317.000000  ...  170317.000000  170317.000000   \n",
      "mean        0.950698       0.107077  ...       0.378893       0.020157   \n",
      "std         1.903671       0.309212  ...       0.795211       0.140536   \n",
      "min         0.000000       0.000000  ...       0.000000       0.000000   \n",
      "25%         0.000000       0.000000  ...       0.000000       0.000000   \n",
      "50%         0.000000       0.000000  ...       0.000000       0.000000   \n",
      "75%         1.000000       0.000000  ...       1.000000       0.000000   \n",
      "max        10.000000       1.000000  ...      10.000000       1.000000   \n",
      "\n",
      "           HEROINUSE        TRQLZRS        SEDATVS        COCAINE  \\\n",
      "count  170317.000000  170317.000000  170317.000000  170317.000000   \n",
      "mean        0.031389       0.223988       0.051304       0.179459   \n",
      "std         0.266169       0.719446       0.325596       0.561877   \n",
      "min         0.000000       0.000000       0.000000       0.000000   \n",
      "25%         0.000000       0.000000       0.000000       0.000000   \n",
      "50%         0.000000       0.000000       0.000000       0.000000   \n",
      "75%         0.000000       0.000000       0.000000       0.000000   \n",
      "max         5.000000       5.000000       5.000000       5.000000   \n",
      "\n",
      "            AMPHETMN        HALUCNG        TRTMENT        MHTRTMT  \n",
      "count  170317.000000  170317.000000  170317.000000  170317.000000  \n",
      "mean        0.153825       0.327947       0.061133       0.208828  \n",
      "std         0.500246       0.869154       0.543367       0.652826  \n",
      "min         0.000000       0.000000       0.000000       0.000000  \n",
      "25%         0.000000       0.000000       0.000000       0.000000  \n",
      "50%         0.000000       0.000000       0.000000       0.000000  \n",
      "75%         0.000000       0.000000       0.000000       0.000000  \n",
      "max         5.000000       5.000000      10.000000       8.000000  \n",
      "\n",
      "[8 rows x 21 columns]\n"
     ]
    }
   ],
   "source": [
    "print(data.describe(include='all'))"
   ]
  },
  {
   "cell_type": "code",
   "execution_count": 8,
   "id": "96c1318c-ad03-4983-ba15-599cf301e462",
   "metadata": {},
   "outputs": [
    {
     "name": "stdout",
     "output_type": "stream",
     "text": [
      "YEAR         0\n",
      "AGECAT       0\n",
      "SEX          0\n",
      "MARRIED      0\n",
      "EDUCAT       0\n",
      "EMPLOY18     0\n",
      "CTYMETRO     0\n",
      "HEALTH       0\n",
      "MENTHLTH     0\n",
      "PRLMISEVR    0\n",
      "PRLMISAB     0\n",
      "PRLANY       0\n",
      "HEROINEVR    0\n",
      "HEROINUSE    0\n",
      "TRQLZRS      0\n",
      "SEDATVS      0\n",
      "COCAINE      0\n",
      "AMPHETMN     0\n",
      "HALUCNG      0\n",
      "TRTMENT      0\n",
      "MHTRTMT      0\n",
      "dtype: int64\n"
     ]
    }
   ],
   "source": [
    "print(data.isnull().sum())"
   ]
  },
  {
   "cell_type": "code",
   "execution_count": 11,
   "id": "dd2108ed-d9f6-417c-8427-c86d13a5f9c3",
   "metadata": {},
   "outputs": [],
   "source": [
    "duplicate_rows = data.duplicated()"
   ]
  },
  {
   "cell_type": "code",
   "execution_count": 12,
   "id": "b942f4d4-dcbb-44c4-84ca-22b7254f4ccd",
   "metadata": {},
   "outputs": [
    {
     "name": "stdout",
     "output_type": "stream",
     "text": [
      "Number of duplicate rows: 94669\n"
     ]
    }
   ],
   "source": [
    "print(f\"Number of duplicate rows: {duplicate_rows.sum()}\")"
   ]
  },
  {
   "cell_type": "code",
   "execution_count": 13,
   "id": "3aa2cc8c-b6fe-4f48-af53-85d75de5b364",
   "metadata": {},
   "outputs": [],
   "source": [
    "data = data.drop_duplicates()"
   ]
  },
  {
   "cell_type": "code",
   "execution_count": 14,
   "id": "2f307052-6e57-4471-a186-29e28c97d47f",
   "metadata": {},
   "outputs": [
    {
     "name": "stdout",
     "output_type": "stream",
     "text": [
      "Number of rows after removing duplicates: 75648\n"
     ]
    }
   ],
   "source": [
    "print(f\"Number of rows after removing duplicates: {data.shape[0]}\")"
   ]
  },
  {
   "cell_type": "code",
   "execution_count": 15,
   "id": "68852a9f-ea86-48cb-b22f-1c6b5d4e38bf",
   "metadata": {},
   "outputs": [
    {
     "name": "stdout",
     "output_type": "stream",
     "text": [
      "<class 'pandas.core.frame.DataFrame'>\n",
      "Index: 75648 entries, 0 to 170316\n",
      "Data columns (total 21 columns):\n",
      " #   Column     Non-Null Count  Dtype\n",
      "---  ------     --------------  -----\n",
      " 0   YEAR       75648 non-null  int64\n",
      " 1   AGECAT     75648 non-null  int64\n",
      " 2   SEX        75648 non-null  int64\n",
      " 3   MARRIED    75648 non-null  int64\n",
      " 4   EDUCAT     75648 non-null  int64\n",
      " 5   EMPLOY18   75648 non-null  int64\n",
      " 6   CTYMETRO   75648 non-null  int64\n",
      " 7   HEALTH     75648 non-null  int64\n",
      " 8   MENTHLTH   75648 non-null  int64\n",
      " 9   PRLMISEVR  75648 non-null  int64\n",
      " 10  PRLMISAB   75648 non-null  int64\n",
      " 11  PRLANY     75648 non-null  int64\n",
      " 12  HEROINEVR  75648 non-null  int64\n",
      " 13  HEROINUSE  75648 non-null  int64\n",
      " 14  TRQLZRS    75648 non-null  int64\n",
      " 15  SEDATVS    75648 non-null  int64\n",
      " 16  COCAINE    75648 non-null  int64\n",
      " 17  AMPHETMN   75648 non-null  int64\n",
      " 18  HALUCNG    75648 non-null  int64\n",
      " 19  TRTMENT    75648 non-null  int64\n",
      " 20  MHTRTMT    75648 non-null  int64\n",
      "dtypes: int64(21)\n",
      "memory usage: 12.7 MB\n",
      "None\n"
     ]
    }
   ],
   "source": [
    "print(data.info())"
   ]
  },
  {
   "cell_type": "code",
   "execution_count": 20,
   "id": "4a0094b1-da62-4b13-b8bb-698d87be4e69",
   "metadata": {},
   "outputs": [
    {
     "name": "stdout",
     "output_type": "stream",
     "text": [
      "   YEAR  AGECAT  SEX  MARRIED  EDUCAT  EMPLOY18  CTYMETRO  HEALTH  MENTHLTH  \\\n",
      "0    15       3    1        0       2         2         0       3         4   \n",
      "1    15       3    0        0       3         1         0       6         7   \n",
      "2    15       2    0        0       3         0         0       4         2   \n",
      "3    15       1    0        0       1         0         0       5         0   \n",
      "4    15       5    0        0       3         0         0       5         2   \n",
      "5    15       3    0        0       2         2         0       5         3   \n",
      "6    15       3    0        0       2         0         0       1         0   \n",
      "7    15       3    0        0       5         0         0       3         0   \n",
      "8    15       3    1        0       4         0         0       6         6   \n",
      "9    15       2    0        0       4         1         0       5        10   \n",
      "\n",
      "   PRLMISEVR  ...  PRLANY  HEROINEVR  HEROINUSE  TRQLZRS  SEDATVS  COCAINE  \\\n",
      "0          1  ...      10          1          5        5        0        5   \n",
      "1          1  ...      10          1          5        5        0        4   \n",
      "2          1  ...       9          1          5        5        0        4   \n",
      "3          1  ...       9          1          5        5        0        3   \n",
      "4          1  ...       9          1          5        5        3        2   \n",
      "5          1  ...       8          1          5        5        0        2   \n",
      "6          1  ...       8          1          5        4        0        5   \n",
      "7          1  ...       8          1          5        0        0        3   \n",
      "8          1  ...       8          1          5        3        0        5   \n",
      "9          1  ...       8          1          5        5        0        4   \n",
      "\n",
      "   AMPHETMN  HALUCNG  TRTMENT  MHTRTMT  \n",
      "0         2        2        6        0  \n",
      "1         3        5        5        0  \n",
      "2         2        3        7        2  \n",
      "3         2        2        0        0  \n",
      "4         2        2        7        0  \n",
      "5         2        4        0        0  \n",
      "6         4        3        0        0  \n",
      "7         1        0        0        0  \n",
      "8         2        2        8        0  \n",
      "9         3        5        6        0  \n",
      "\n",
      "[10 rows x 21 columns]\n"
     ]
    }
   ],
   "source": [
    "print(data.head(10))"
   ]
  }
 ],
 "metadata": {
  "kernelspec": {
   "display_name": "Python 3 (ipykernel)",
   "language": "python",
   "name": "python3"
  },
  "language_info": {
   "codemirror_mode": {
    "name": "ipython",
    "version": 3
   },
   "file_extension": ".py",
   "mimetype": "text/x-python",
   "name": "python",
   "nbconvert_exporter": "python",
   "pygments_lexer": "ipython3",
   "version": "3.12.2"
  }
 },
 "nbformat": 4,
 "nbformat_minor": 5
}
